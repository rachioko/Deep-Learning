{
  "nbformat": 4,
  "nbformat_minor": 0,
  "metadata": {
    "colab": {
      "name": "Neural Network - IMDB.ipynb",
      "provenance": [],
      "collapsed_sections": [],
      "include_colab_link": true
    },
    "kernelspec": {
      "name": "python3",
      "display_name": "Python 3"
    },
    "accelerator": "GPU"
  },
  "cells": [
    {
      "cell_type": "markdown",
      "metadata": {
        "id": "view-in-github",
        "colab_type": "text"
      },
      "source": [
        "<a href=\"https://colab.research.google.com/github/rachioko/Neural-Networks-with-Tensorflow/blob/master/Neural_Network_IMDB.ipynb\" target=\"_parent\"><img src=\"https://colab.research.google.com/assets/colab-badge.svg\" alt=\"Open In Colab\"/></a>"
      ]
    },
    {
      "cell_type": "code",
      "metadata": {
        "id": "NHAKmKA1JeTU",
        "colab_type": "code",
        "outputId": "d795ee58-9347-44cc-bd42-990b3d874006",
        "colab": {
          "base_uri": "https://localhost:8080/",
          "height": 67
        }
      },
      "source": [
        "import numpy as np\n",
        "from keras.datasets import imdb\n",
        "\n",
        "(train_data,train_labels),(test_data,test_labels) = imdb.load_data(num_words = 10000)"
      ],
      "execution_count": 1,
      "outputs": [
        {
          "output_type": "stream",
          "text": [
            "Using TensorFlow backend.\n"
          ],
          "name": "stderr"
        },
        {
          "output_type": "stream",
          "text": [
            "Downloading data from https://s3.amazonaws.com/text-datasets/imdb.npz\n",
            "17465344/17464789 [==============================] - 0s 0us/step\n"
          ],
          "name": "stdout"
        }
      ]
    },
    {
      "cell_type": "code",
      "metadata": {
        "id": "ULxs7VgIKihu",
        "colab_type": "code",
        "outputId": "ec7ee20c-3ea2-4877-88cb-c8f9ec0d433c",
        "colab": {
          "base_uri": "https://localhost:8080/",
          "height": 70
        }
      },
      "source": [
        "#check training data and label\n",
        "print(train_data[0])\n",
        "print(train_labels[0])"
      ],
      "execution_count": 2,
      "outputs": [
        {
          "output_type": "stream",
          "text": [
            "[1, 14, 22, 16, 43, 530, 973, 1622, 1385, 65, 458, 4468, 66, 3941, 4, 173, 36, 256, 5, 25, 100, 43, 838, 112, 50, 670, 2, 9, 35, 480, 284, 5, 150, 4, 172, 112, 167, 2, 336, 385, 39, 4, 172, 4536, 1111, 17, 546, 38, 13, 447, 4, 192, 50, 16, 6, 147, 2025, 19, 14, 22, 4, 1920, 4613, 469, 4, 22, 71, 87, 12, 16, 43, 530, 38, 76, 15, 13, 1247, 4, 22, 17, 515, 17, 12, 16, 626, 18, 2, 5, 62, 386, 12, 8, 316, 8, 106, 5, 4, 2223, 5244, 16, 480, 66, 3785, 33, 4, 130, 12, 16, 38, 619, 5, 25, 124, 51, 36, 135, 48, 25, 1415, 33, 6, 22, 12, 215, 28, 77, 52, 5, 14, 407, 16, 82, 2, 8, 4, 107, 117, 5952, 15, 256, 4, 2, 7, 3766, 5, 723, 36, 71, 43, 530, 476, 26, 400, 317, 46, 7, 4, 2, 1029, 13, 104, 88, 4, 381, 15, 297, 98, 32, 2071, 56, 26, 141, 6, 194, 7486, 18, 4, 226, 22, 21, 134, 476, 26, 480, 5, 144, 30, 5535, 18, 51, 36, 28, 224, 92, 25, 104, 4, 226, 65, 16, 38, 1334, 88, 12, 16, 283, 5, 16, 4472, 113, 103, 32, 15, 16, 5345, 19, 178, 32]\n",
            "1\n"
          ],
          "name": "stdout"
        }
      ]
    },
    {
      "cell_type": "code",
      "metadata": {
        "id": "e38aufJYLIP2",
        "colab_type": "code",
        "outputId": "0c3acc08-7580-4559-9141-7daabc21806e",
        "colab": {
          "base_uri": "https://localhost:8080/",
          "height": 34
        }
      },
      "source": [
        "#check that the dataset only contains max 10000 words\n",
        "max([max(sequence) for sequence in train_data])"
      ],
      "execution_count": 3,
      "outputs": [
        {
          "output_type": "execute_result",
          "data": {
            "text/plain": [
              "9999"
            ]
          },
          "metadata": {
            "tags": []
          },
          "execution_count": 3
        }
      ]
    },
    {
      "cell_type": "code",
      "metadata": {
        "id": "OyKfTOZfLlb9",
        "colab_type": "code",
        "colab": {
          "base_uri": "https://localhost:8080/",
          "height": 50
        },
        "outputId": "20ba24ff-cab0-43eb-8502-dbd38c89ee93"
      },
      "source": [
        "#create word index\n",
        "word_index = imdb.get_word_index()\n",
        "\n",
        "reverse_word_index = dict([(value,key) for (key,value) in word_index.items()])\n",
        "\n",
        "#get review values and change them into words\n",
        "review_words = ''.join([reverse_word_index.get(i-3,'?') for i in train_data[0]])"
      ],
      "execution_count": 4,
      "outputs": [
        {
          "output_type": "stream",
          "text": [
            "Downloading data from https://s3.amazonaws.com/text-datasets/imdb_word_index.json\n",
            "1646592/1641221 [==============================] - 0s 0us/step\n"
          ],
          "name": "stdout"
        }
      ]
    },
    {
      "cell_type": "code",
      "metadata": {
        "id": "iM98F32zNJ-7",
        "colab_type": "code",
        "outputId": "6037e8b6-e746-49c9-d18b-157f78a846ef",
        "colab": {
          "base_uri": "https://localhost:8080/",
          "height": 54
        }
      },
      "source": [
        "review_words"
      ],
      "execution_count": 5,
      "outputs": [
        {
          "output_type": "execute_result",
          "data": {
            "text/plain": [
              "\"?thisfilmwasjustbrilliantcastinglocationscenerystorydirectioneveryone'sreallysuitedtheparttheyplayedandyoucouldjustimaginebeingthererobert?isanamazingactorandnowthesamebeingdirector?fathercamefromthesamescottishislandasmyselfsoilovedthefacttherewasarealconnectionwiththisfilmthewittyremarksthroughoutthefilmweregreatitwasjustbrilliantsomuchthatiboughtthefilmassoonasitwasreleasedfor?andwouldrecommendittoeveryonetowatchandtheflyfishingwasamazingreallycriedattheenditwassosadandyouknowwhattheysayifyoucryatafilmitmusthavebeengoodandthisdefinitelywasalso?tothetwolittleboy'sthatplayedthe?ofnormanandpaultheywerejustbrilliantchildrenareoftenleftoutofthe?listithinkbecausethestarsthatplaythemallgrownuparesuchabigprofileforthewholefilmbutthesechildrenareamazingandshouldbepraisedforwhattheyhavedonedon'tyouthinkthewholestorywassolovelybecauseitwastrueandwassomeone'slifeafterallthatwassharedwithusall\""
            ]
          },
          "metadata": {
            "tags": []
          },
          "execution_count": 5
        }
      ]
    },
    {
      "cell_type": "code",
      "metadata": {
        "id": "QaIp01GON34R",
        "colab_type": "code",
        "colab": {}
      },
      "source": [
        "#one-hot encode data (change into np vectors)\n",
        "\n",
        "def vectorize_sequences(sequences, dimension=10000):\n",
        "  result = np.zeros((len(sequences),dimension))\n",
        "  \n",
        "  for i, sequence in enumerate(sequences):\n",
        "    result[i,sequence] = 1\n",
        "  \n",
        "  return result"
      ],
      "execution_count": 0,
      "outputs": []
    },
    {
      "cell_type": "code",
      "metadata": {
        "id": "vU-1FkAOUXqk",
        "colab_type": "code",
        "outputId": "c44a168c-2631-4f2a-9c6d-3500f7ebc5e3",
        "colab": {
          "base_uri": "https://localhost:8080/",
          "height": 34
        }
      },
      "source": [
        "#vectorize the training and test sets\n",
        "x_train = vectorize_sequences(train_data)\n",
        "x_test = vectorize_sequences(test_data)\n",
        "\n",
        "print(x_train[0])\n",
        "\n",
        "#vectorize the labels as floats\n",
        "y_train = np.asarray(train_labels).astype('float32')\n",
        "y_test = np.asarray(test_labels).astype('float32')\n"
      ],
      "execution_count": 7,
      "outputs": [
        {
          "output_type": "stream",
          "text": [
            "[0. 1. 1. ... 0. 0. 0.]\n"
          ],
          "name": "stdout"
        }
      ]
    },
    {
      "cell_type": "code",
      "metadata": {
        "id": "o733QEQZX4oO",
        "colab_type": "code",
        "outputId": "3816df6b-cf64-4ec1-aa80-47f915636365",
        "colab": {
          "base_uri": "https://localhost:8080/",
          "height": 255
        }
      },
      "source": [
        "#Define model and our Neural Network structure : 1 hidden layer\n",
        "from keras import models\n",
        "from keras import layers\n",
        "\n",
        "model = models.Sequential()\n",
        "model.add(layers.Dense(16,activation ='relu', input_shape = (10000,)))\n",
        "model.add(layers.Dense(16, activation = 'relu'))\n",
        "model.add(layers.Dense(1, activation = 'sigmoid'))\n",
        "\n",
        "model.compile(optimizer = 'rmsprop' , loss ='binary_crossentropy' , metrics = ['accuracy'])"
      ],
      "execution_count": 8,
      "outputs": [
        {
          "output_type": "stream",
          "text": [
            "WARNING:tensorflow:From /usr/local/lib/python3.6/dist-packages/keras/backend/tensorflow_backend.py:66: The name tf.get_default_graph is deprecated. Please use tf.compat.v1.get_default_graph instead.\n",
            "\n",
            "WARNING:tensorflow:From /usr/local/lib/python3.6/dist-packages/keras/backend/tensorflow_backend.py:541: The name tf.placeholder is deprecated. Please use tf.compat.v1.placeholder instead.\n",
            "\n",
            "WARNING:tensorflow:From /usr/local/lib/python3.6/dist-packages/keras/backend/tensorflow_backend.py:4432: The name tf.random_uniform is deprecated. Please use tf.random.uniform instead.\n",
            "\n",
            "WARNING:tensorflow:From /usr/local/lib/python3.6/dist-packages/keras/optimizers.py:793: The name tf.train.Optimizer is deprecated. Please use tf.compat.v1.train.Optimizer instead.\n",
            "\n",
            "WARNING:tensorflow:From /usr/local/lib/python3.6/dist-packages/keras/backend/tensorflow_backend.py:3657: The name tf.log is deprecated. Please use tf.math.log instead.\n",
            "\n",
            "WARNING:tensorflow:From /usr/local/lib/python3.6/dist-packages/tensorflow/python/ops/nn_impl.py:180: add_dispatch_support.<locals>.wrapper (from tensorflow.python.ops.array_ops) is deprecated and will be removed in a future version.\n",
            "Instructions for updating:\n",
            "Use tf.where in 2.0, which has the same broadcast rule as np.where\n"
          ],
          "name": "stdout"
        }
      ]
    },
    {
      "cell_type": "code",
      "metadata": {
        "id": "J7QCRspfc7GM",
        "colab_type": "code",
        "outputId": "b66b5bf3-0320-4679-dedd-6b9b50acc6dd",
        "colab": {
          "base_uri": "https://localhost:8080/",
          "height": 759
        }
      },
      "source": [
        "#Test our Model\n",
        "x_val = x_train[:10000]\n",
        "partial_x_train = x_train[10000:]\n",
        "\n",
        "y_val = y_train[:10000]\n",
        "partial_y_train = y_train[10000:]\n",
        "\n",
        "history = model.fit(partial_x_train, partial_y_train,\n",
        "                   epochs = 20,\n",
        "                   batch_size = 512,\n",
        "                   validation_data = (x_val,y_val))"
      ],
      "execution_count": 9,
      "outputs": [
        {
          "output_type": "stream",
          "text": [
            "WARNING:tensorflow:From /usr/local/lib/python3.6/dist-packages/keras/backend/tensorflow_backend.py:1033: The name tf.assign_add is deprecated. Please use tf.compat.v1.assign_add instead.\n",
            "\n",
            "Train on 15000 samples, validate on 10000 samples\n",
            "Epoch 1/20\n",
            "15000/15000 [==============================] - 6s 400us/step - loss: 0.5264 - acc: 0.7711 - val_loss: 0.3892 - val_acc: 0.8687\n",
            "Epoch 2/20\n",
            "15000/15000 [==============================] - 1s 93us/step - loss: 0.3112 - acc: 0.8995 - val_loss: 0.3152 - val_acc: 0.8800\n",
            "Epoch 3/20\n",
            "15000/15000 [==============================] - 1s 89us/step - loss: 0.2256 - acc: 0.9268 - val_loss: 0.2878 - val_acc: 0.8842\n",
            "Epoch 4/20\n",
            "15000/15000 [==============================] - 1s 92us/step - loss: 0.1776 - acc: 0.9409 - val_loss: 0.2745 - val_acc: 0.8907\n",
            "Epoch 5/20\n",
            "15000/15000 [==============================] - 1s 90us/step - loss: 0.1405 - acc: 0.9556 - val_loss: 0.3054 - val_acc: 0.8774\n",
            "Epoch 6/20\n",
            "15000/15000 [==============================] - 1s 89us/step - loss: 0.1148 - acc: 0.9660 - val_loss: 0.3150 - val_acc: 0.8789\n",
            "Epoch 7/20\n",
            "15000/15000 [==============================] - 1s 90us/step - loss: 0.0942 - acc: 0.9722 - val_loss: 0.3111 - val_acc: 0.8826\n",
            "Epoch 8/20\n",
            "15000/15000 [==============================] - 1s 89us/step - loss: 0.0767 - acc: 0.9781 - val_loss: 0.3280 - val_acc: 0.8811\n",
            "Epoch 9/20\n",
            "15000/15000 [==============================] - 1s 89us/step - loss: 0.0615 - acc: 0.9847 - val_loss: 0.3516 - val_acc: 0.8799\n",
            "Epoch 10/20\n",
            "15000/15000 [==============================] - 1s 91us/step - loss: 0.0498 - acc: 0.9885 - val_loss: 0.3768 - val_acc: 0.8764\n",
            "Epoch 11/20\n",
            "15000/15000 [==============================] - 1s 89us/step - loss: 0.0407 - acc: 0.9914 - val_loss: 0.4047 - val_acc: 0.8733\n",
            "Epoch 12/20\n",
            "15000/15000 [==============================] - 1s 89us/step - loss: 0.0323 - acc: 0.9932 - val_loss: 0.4432 - val_acc: 0.8728\n",
            "Epoch 13/20\n",
            "15000/15000 [==============================] - 1s 90us/step - loss: 0.0267 - acc: 0.9946 - val_loss: 0.4598 - val_acc: 0.8733\n",
            "Epoch 14/20\n",
            "15000/15000 [==============================] - 1s 90us/step - loss: 0.0183 - acc: 0.9974 - val_loss: 0.5673 - val_acc: 0.8587\n",
            "Epoch 15/20\n",
            "15000/15000 [==============================] - 1s 90us/step - loss: 0.0150 - acc: 0.9984 - val_loss: 0.5203 - val_acc: 0.8697\n",
            "Epoch 16/20\n",
            "15000/15000 [==============================] - 1s 89us/step - loss: 0.0120 - acc: 0.9988 - val_loss: 0.5495 - val_acc: 0.8689\n",
            "Epoch 17/20\n",
            "15000/15000 [==============================] - 1s 91us/step - loss: 0.0102 - acc: 0.9985 - val_loss: 0.5865 - val_acc: 0.8672\n",
            "Epoch 18/20\n",
            "15000/15000 [==============================] - 1s 89us/step - loss: 0.0053 - acc: 0.9999 - val_loss: 0.6299 - val_acc: 0.8662\n",
            "Epoch 19/20\n",
            "15000/15000 [==============================] - 1s 90us/step - loss: 0.0060 - acc: 0.9995 - val_loss: 0.6448 - val_acc: 0.8661\n",
            "Epoch 20/20\n",
            "15000/15000 [==============================] - 1s 90us/step - loss: 0.0078 - acc: 0.9979 - val_loss: 0.6701 - val_acc: 0.8648\n"
          ],
          "name": "stdout"
        }
      ]
    },
    {
      "cell_type": "code",
      "metadata": {
        "id": "87CO2yCxh_-C",
        "colab_type": "code",
        "outputId": "456fb131-b6cc-4335-ee5f-eae7b0ca860c",
        "colab": {
          "base_uri": "https://localhost:8080/",
          "height": 590
        }
      },
      "source": [
        "#plot the accuracy against the loss\n",
        "import matplotlib.pyplot as plt\n",
        "\n",
        "#Retrieve a list of list results on training and test data\n",
        "# sets for each training epoch\n",
        "acc = history.history['acc']\n",
        "val_acc = history.history['val_acc']\n",
        "loss = history.history['loss']\n",
        "val_loss = history.history['val_loss']\n",
        "\n",
        "epochs = range(len(acc)) #get number of epochs\n",
        "\n",
        "#plot training and validation accuracy per epoch\n",
        "plt.plot(epochs, acc,'r')\n",
        "plt.plot(epochs, val_acc,'b')\n",
        "plt.title(\"Training and Validation Accuracy\")\n",
        "plt.xlabel(\"Epochs\")\n",
        "plt.ylabel(\"Accuracy\")\n",
        "plt.legend([\"Accuracy\", \"Validation Accuracy\"])\n",
        "\n",
        "plt.figure();\n",
        "\n",
        "#plot training and validation loss per epoch\n",
        "plt.plot(epochs, loss,'r')\n",
        "plt.plot(epochs, val_loss,'b')\n",
        "plt.title(\"Training and Validation loss\")\n",
        "plt.xlabel(\"Epochs\")\n",
        "plt.ylabel(\"Loss\")\n",
        "plt.legend([\"Loss\", \"Validation Loss\"])\n",
        "\n",
        "plt.figure();"
      ],
      "execution_count": 10,
      "outputs": [
        {
          "output_type": "display_data",
          "data": {
            "image/png": "[encoded data removed]",
            "text/plain": [
              "<Figure size 432x288 with 1 Axes>"
            ]
          },
          "metadata": {
            "tags": []
          }
        },
        {
          "output_type": "display_data",
          "data": {
            "image/png": "[encoded data removed]",
            "text/plain": [
              "<Figure size 432x288 with 1 Axes>"
            ]
          },
          "metadata": {
            "tags": []
          }
        },
        {
          "output_type": "display_data",
          "data": {
            "text/plain": [
              "<Figure size 432x288 with 0 Axes>"
            ]
          },
          "metadata": {
            "tags": []
          }
        }
      ]
    },
    {
      "cell_type": "code",
      "metadata": {
        "id": "eljmUOc8uP8I",
        "colab_type": "code",
        "colab": {
          "base_uri": "https://localhost:8080/",
          "height": 50
        },
        "outputId": "726f8d24-3d57-42c1-d9b4-6dddf7ae9d1b"
      },
      "source": [
        "#Evaluate the Model accuracy on test data\n",
        "\n",
        "test_loss, test_acc = model.evaluate(x_test, y_test)\n",
        "print (\"Test Accuracy:\" , test_acc)"
      ],
      "execution_count": 11,
      "outputs": [
        {
          "output_type": "stream",
          "text": [
            "25000/25000 [==============================] - 2s 99us/step\n",
            "Test Accuracy: 0.85004\n"
          ],
          "name": "stdout"
        }
      ]
    },
    {
      "cell_type": "markdown",
      "metadata": {
        "id": "qyqxDZpj-ylm",
        "colab_type": "text"
      },
      "source": [
        "Test Accuracy is slightly below the Training accuracy meaning we might have some overfitting. So we are going to try a new model but this time on less epochs(5).\n"
      ]
    },
    {
      "cell_type": "code",
      "metadata": {
        "id": "BOfV8LnHBZMS",
        "colab_type": "code",
        "colab": {
          "base_uri": "https://localhost:8080/",
          "height": 202
        },
        "outputId": "8f7ae384-ec20-49ee-cc5b-9a417fa20b57"
      },
      "source": [
        "model = models.Sequential()\n",
        "model.add(layers.Dense(16,activation ='relu', input_shape = (10000,)))\n",
        "model.add(layers.Dense(16, activation = 'relu'))\n",
        "model.add(layers.Dense(1, activation = 'sigmoid'))\n",
        "\n",
        "model.compile(optimizer = 'rmsprop' , loss ='binary_crossentropy' , metrics = ['accuracy'])\n",
        "\n",
        "history = model.fit(partial_x_train, partial_y_train,\n",
        "                   epochs = 5,\n",
        "                   batch_size = 512,\n",
        "                   validation_data = (x_val,y_val))\n"
      ],
      "execution_count": 15,
      "outputs": [
        {
          "output_type": "stream",
          "text": [
            "Train on 15000 samples, validate on 10000 samples\n",
            "Epoch 1/5\n",
            "15000/15000 [==============================] - 2s 105us/step - loss: 0.5801 - acc: 0.7143 - val_loss: 0.4617 - val_acc: 0.8531\n",
            "Epoch 2/5\n",
            "15000/15000 [==============================] - 1s 93us/step - loss: 0.3745 - acc: 0.8945 - val_loss: 0.3437 - val_acc: 0.8861\n",
            "Epoch 3/5\n",
            "15000/15000 [==============================] - 1s 93us/step - loss: 0.2582 - acc: 0.9245 - val_loss: 0.2963 - val_acc: 0.8893\n",
            "Epoch 4/5\n",
            "15000/15000 [==============================] - 1s 92us/step - loss: 0.1964 - acc: 0.9433 - val_loss: 0.2914 - val_acc: 0.8854\n",
            "Epoch 5/5\n",
            "15000/15000 [==============================] - 1s 92us/step - loss: 0.1577 - acc: 0.9514 - val_loss: 0.2825 - val_acc: 0.8860\n"
          ],
          "name": "stdout"
        }
      ]
    },
    {
      "cell_type": "code",
      "metadata": {
        "id": "bYiDrNC-B2BK",
        "colab_type": "code",
        "colab": {
          "base_uri": "https://localhost:8080/",
          "height": 87
        },
        "outputId": "f99c748e-f01a-42c8-e95d-6883e5b85ed3"
      },
      "source": [
        "test_loss, test_acc = model.evaluate(x_test, y_test)\n",
        "print (\"Test Accuracy:\" , test_acc)\n"
      ],
      "execution_count": 16,
      "outputs": [
        {
          "output_type": "stream",
          "text": [
            "Train Accurary [0.7710666669209798, 0.8995333330790202, 0.9267999998728434, 0.9409333333015442, 0.955599999777476, 0.966000000222524, 0.9721999999682108, 0.9780666664759318, 0.9847333334922791, 0.9884666669209798, 0.9913999999046326, 0.9932, 0.9946, 0.9974000000635783, 0.9984, 0.9988, 0.9984666666666666, 0.9998666666666667, 0.9994666666666666, 0.9979333333333333]\n",
            "25000/25000 [==============================] - 2s 97us/step\n",
            "Test Accuracy: 0.8782\n"
          ],
          "name": "stdout"
        }
      ]
    },
    {
      "cell_type": "markdown",
      "metadata": {
        "id": "UyB_K_NCCfUB",
        "colab_type": "text"
      },
      "source": [
        "Might be by little but it is still Better. ':D "
      ]
    },
    {
      "cell_type": "code",
      "metadata": {
        "id": "nlKm6mEk_ZUt",
        "colab_type": "code",
        "colab": {
          "base_uri": "https://localhost:8080/",
          "height": 34
        },
        "outputId": "86a9fb5f-264f-4324-db16-da7e97153c54"
      },
      "source": [
        "#make prediction\n",
        "prediction = model.predict(x_test)\n",
        "\n",
        "prediction[0]"
      ],
      "execution_count": 17,
      "outputs": [
        {
          "output_type": "execute_result",
          "data": {
            "text/plain": [
              "array([0.16512972], dtype=float32)"
            ]
          },
          "metadata": {
            "tags": []
          },
          "execution_count": 17
        }
      ]
    }
  ]
}