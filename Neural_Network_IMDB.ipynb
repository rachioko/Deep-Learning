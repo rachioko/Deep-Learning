{
  "nbformat": 4,
  "nbformat_minor": 0,
  "metadata": {
    "colab": {
      "name": "Neural Network - IMDB.ipynb",
      "provenance": [],
      "collapsed_sections": [],
      "include_colab_link": true
    },
    "kernelspec": {
      "name": "python3",
      "display_name": "Python 3"
    },
    "accelerator": "GPU"
  },
  "cells": [
    {
      "cell_type": "markdown",
      "metadata": {
        "id": "view-in-github",
        "colab_type": "text"
      },
      "source": [
        "<a href=\"https://colab.research.google.com/github/rachioko/Neural-Networks-with-Tensorflow/blob/master/Neural_Network_IMDB.ipynb\" target=\"_parent\"><img src=\"https://colab.research.google.com/assets/colab-badge.svg\" alt=\"Open In Colab\"/></a>"
      ]
    },
    {
      "cell_type": "code",
      "metadata": {
        "id": "NHAKmKA1JeTU",
        "colab_type": "code",
        "colab": {
          "base_uri": "https://localhost:8080/",
          "height": 34
        },
        "outputId": "be31798a-c973-4256-b674-aa8b3a2d73f5"
      },
      "source": [
        "import numpy as np\n",
        "from keras.datasets import imdb\n",
        "\n",
        "(train_data,train_labels),(test_data,test_labels) = imdb.load_data(num_words = 10000)"
      ],
      "execution_count": 1,
      "outputs": [
        {
          "output_type": "stream",
          "text": [
            "Using TensorFlow backend.\n"
          ],
          "name": "stderr"
        }
      ]
    },
    {
      "cell_type": "code",
      "metadata": {
        "id": "ULxs7VgIKihu",
        "colab_type": "code",
        "colab": {
          "base_uri": "https://localhost:8080/",
          "height": 70
        },
        "outputId": "dfa4e8e6-8d08-4b3a-97fd-6dcf7b531307"
      },
      "source": [
        "#check training data and label\n",
        "print(train_data[0])\n",
        "print(train_labels[0])"
      ],
      "execution_count": 2,
      "outputs": [
        {
          "output_type": "stream",
          "text": [
            "[1, 14, 22, 16, 43, 530, 973, 1622, 1385, 65, 458, 4468, 66, 3941, 4, 173, 36, 256, 5, 25, 100, 43, 838, 112, 50, 670, 2, 9, 35, 480, 284, 5, 150, 4, 172, 112, 167, 2, 336, 385, 39, 4, 172, 4536, 1111, 17, 546, 38, 13, 447, 4, 192, 50, 16, 6, 147, 2025, 19, 14, 22, 4, 1920, 4613, 469, 4, 22, 71, 87, 12, 16, 43, 530, 38, 76, 15, 13, 1247, 4, 22, 17, 515, 17, 12, 16, 626, 18, 2, 5, 62, 386, 12, 8, 316, 8, 106, 5, 4, 2223, 5244, 16, 480, 66, 3785, 33, 4, 130, 12, 16, 38, 619, 5, 25, 124, 51, 36, 135, 48, 25, 1415, 33, 6, 22, 12, 215, 28, 77, 52, 5, 14, 407, 16, 82, 2, 8, 4, 107, 117, 5952, 15, 256, 4, 2, 7, 3766, 5, 723, 36, 71, 43, 530, 476, 26, 400, 317, 46, 7, 4, 2, 1029, 13, 104, 88, 4, 381, 15, 297, 98, 32, 2071, 56, 26, 141, 6, 194, 7486, 18, 4, 226, 22, 21, 134, 476, 26, 480, 5, 144, 30, 5535, 18, 51, 36, 28, 224, 92, 25, 104, 4, 226, 65, 16, 38, 1334, 88, 12, 16, 283, 5, 16, 4472, 113, 103, 32, 15, 16, 5345, 19, 178, 32]\n",
            "1\n"
          ],
          "name": "stdout"
        }
      ]
    },
    {
      "cell_type": "code",
      "metadata": {
        "id": "e38aufJYLIP2",
        "colab_type": "code",
        "colab": {
          "base_uri": "https://localhost:8080/",
          "height": 34
        },
        "outputId": "0c49acfc-b837-4a54-fb1b-504fe1f56b9a"
      },
      "source": [
        "#check that the dataset only contains max 10000 words\n",
        "max([max(sequence) for sequence in train_data])"
      ],
      "execution_count": 3,
      "outputs": [
        {
          "output_type": "execute_result",
          "data": {
            "text/plain": [
              "9999"
            ]
          },
          "metadata": {
            "tags": []
          },
          "execution_count": 3
        }
      ]
    },
    {
      "cell_type": "code",
      "metadata": {
        "id": "OyKfTOZfLlb9",
        "colab_type": "code",
        "colab": {}
      },
      "source": [
        "#create word index\n",
        "word_index = imdb.get_word_index()\n",
        "\n",
        "reverse_word_index = dict([(value,key) for (key,value) in word_index.items()])\n",
        "\n",
        "#get review values and change them into words\n",
        "review_words = ''.join([reverse_word_index.get(i-3,'?') for i in train_data[0]])"
      ],
      "execution_count": 0,
      "outputs": []
    },
    {
      "cell_type": "code",
      "metadata": {
        "id": "iM98F32zNJ-7",
        "colab_type": "code",
        "colab": {
          "base_uri": "https://localhost:8080/",
          "height": 54
        },
        "outputId": "71c91f0f-5c9e-4a7f-b246-51d9ad889168"
      },
      "source": [
        "review_words"
      ],
      "execution_count": 5,
      "outputs": [
        {
          "output_type": "execute_result",
          "data": {
            "text/plain": [
              "\"?thisfilmwasjustbrilliantcastinglocationscenerystorydirectioneveryone'sreallysuitedtheparttheyplayedandyoucouldjustimaginebeingthererobert?isanamazingactorandnowthesamebeingdirector?fathercamefromthesamescottishislandasmyselfsoilovedthefacttherewasarealconnectionwiththisfilmthewittyremarksthroughoutthefilmweregreatitwasjustbrilliantsomuchthatiboughtthefilmassoonasitwasreleasedfor?andwouldrecommendittoeveryonetowatchandtheflyfishingwasamazingreallycriedattheenditwassosadandyouknowwhattheysayifyoucryatafilmitmusthavebeengoodandthisdefinitelywasalso?tothetwolittleboy'sthatplayedthe?ofnormanandpaultheywerejustbrilliantchildrenareoftenleftoutofthe?listithinkbecausethestarsthatplaythemallgrownuparesuchabigprofileforthewholefilmbutthesechildrenareamazingandshouldbepraisedforwhattheyhavedonedon'tyouthinkthewholestorywassolovelybecauseitwastrueandwassomeone'slifeafterallthatwassharedwithusall\""
            ]
          },
          "metadata": {
            "tags": []
          },
          "execution_count": 5
        }
      ]
    },
    {
      "cell_type": "code",
      "metadata": {
        "id": "QaIp01GON34R",
        "colab_type": "code",
        "colab": {}
      },
      "source": [
        "#one-hot encode data (change into np vectors)\n",
        "\n",
        "def vectorize_sequences(sequences, dimension=10000):\n",
        "  result = np.zeros((len(sequences),dimension))\n",
        "  \n",
        "  for i, sequence in enumerate(sequences):\n",
        "    result[i,sequence] = 1\n",
        "  \n",
        "  return result"
      ],
      "execution_count": 0,
      "outputs": []
    },
    {
      "cell_type": "code",
      "metadata": {
        "id": "vU-1FkAOUXqk",
        "colab_type": "code",
        "colab": {
          "base_uri": "https://localhost:8080/",
          "height": 34
        },
        "outputId": "b761bc19-40b6-41ff-a172-3f041d407d0d"
      },
      "source": [
        "#vectorize the training and test sets\n",
        "x_train = vectorize_sequences(train_data)\n",
        "x_test = vectorize_sequences(test_data)\n",
        "\n",
        "print(x_train[0])\n",
        "\n",
        "#vectorize the labels as floats\n",
        "y_train = np.asarray(train_labels).astype('float32')\n",
        "y_test = np.asarray(test_labels).astype('float32')\n"
      ],
      "execution_count": 7,
      "outputs": [
        {
          "output_type": "stream",
          "text": [
            "[0. 1. 1. ... 0. 0. 0.]\n"
          ],
          "name": "stdout"
        }
      ]
    },
    {
      "cell_type": "code",
      "metadata": {
        "id": "o733QEQZX4oO",
        "colab_type": "code",
        "colab": {
          "base_uri": "https://localhost:8080/",
          "height": 255
        },
        "outputId": "936fdd3a-b92f-40e5-b366-3de081f4d866"
      },
      "source": [
        "#Define model and our Neural Network structure : 1 hidden layer\n",
        "from keras import models\n",
        "from keras import layers\n",
        "\n",
        "model = models.Sequential()\n",
        "model.add(layers.Dense(16,activation ='relu', input_shape = (10000,)))\n",
        "model.add(layers.Dense(16, activation = 'relu'))\n",
        "model.add(layers.Dense(1, activation = 'sigmoid'))\n",
        "\n",
        "model.compile(optimizer = 'rmsprop' , loss ='binary_crossentropy' , metrics = ['accuracy'])"
      ],
      "execution_count": 8,
      "outputs": [
        {
          "output_type": "stream",
          "text": [
            "WARNING:tensorflow:From /usr/local/lib/python3.6/dist-packages/keras/backend/tensorflow_backend.py:66: The name tf.get_default_graph is deprecated. Please use tf.compat.v1.get_default_graph instead.\n",
            "\n",
            "WARNING:tensorflow:From /usr/local/lib/python3.6/dist-packages/keras/backend/tensorflow_backend.py:541: The name tf.placeholder is deprecated. Please use tf.compat.v1.placeholder instead.\n",
            "\n",
            "WARNING:tensorflow:From /usr/local/lib/python3.6/dist-packages/keras/backend/tensorflow_backend.py:4432: The name tf.random_uniform is deprecated. Please use tf.random.uniform instead.\n",
            "\n",
            "WARNING:tensorflow:From /usr/local/lib/python3.6/dist-packages/keras/optimizers.py:793: The name tf.train.Optimizer is deprecated. Please use tf.compat.v1.train.Optimizer instead.\n",
            "\n",
            "WARNING:tensorflow:From /usr/local/lib/python3.6/dist-packages/keras/backend/tensorflow_backend.py:3657: The name tf.log is deprecated. Please use tf.math.log instead.\n",
            "\n",
            "WARNING:tensorflow:From /usr/local/lib/python3.6/dist-packages/tensorflow/python/ops/nn_impl.py:180: add_dispatch_support.<locals>.wrapper (from tensorflow.python.ops.array_ops) is deprecated and will be removed in a future version.\n",
            "Instructions for updating:\n",
            "Use tf.where in 2.0, which has the same broadcast rule as np.where\n"
          ],
          "name": "stdout"
        }
      ]
    },
    {
      "cell_type": "code",
      "metadata": {
        "id": "J7QCRspfc7GM",
        "colab_type": "code",
        "colab": {
          "base_uri": "https://localhost:8080/",
          "height": 759
        },
        "outputId": "8c3cf1b9-5573-4fcc-c006-35fc02471a5d"
      },
      "source": [
        "#Test our Model\n",
        "x_val = x_train[:10000]\n",
        "partial_x_train = x_train[10000:]\n",
        "\n",
        "y_val = y_train[:10000]\n",
        "partial_y_train = y_train[10000:]\n",
        "\n",
        "history = model.fit(partial_x_train, partial_y_train,\n",
        "                   epochs = 20,\n",
        "                   batch_size = 512,\n",
        "                   validation_data = (x_val,y_val))"
      ],
      "execution_count": 9,
      "outputs": [
        {
          "output_type": "stream",
          "text": [
            "WARNING:tensorflow:From /usr/local/lib/python3.6/dist-packages/keras/backend/tensorflow_backend.py:1033: The name tf.assign_add is deprecated. Please use tf.compat.v1.assign_add instead.\n",
            "\n",
            "Train on 15000 samples, validate on 10000 samples\n",
            "Epoch 1/20\n",
            "15000/15000 [==============================] - 2s 153us/step - loss: 0.5265 - acc: 0.7857 - val_loss: 0.4012 - val_acc: 0.8689\n",
            "Epoch 2/20\n",
            "15000/15000 [==============================] - 1s 95us/step - loss: 0.3188 - acc: 0.9013 - val_loss: 0.3201 - val_acc: 0.8799\n",
            "Epoch 3/20\n",
            "15000/15000 [==============================] - 1s 94us/step - loss: 0.2345 - acc: 0.9237 - val_loss: 0.2871 - val_acc: 0.8887\n",
            "Epoch 4/20\n",
            "15000/15000 [==============================] - 1s 95us/step - loss: 0.1841 - acc: 0.9407 - val_loss: 0.2732 - val_acc: 0.8922\n",
            "Epoch 5/20\n",
            "15000/15000 [==============================] - 1s 96us/step - loss: 0.1497 - acc: 0.9519 - val_loss: 0.2759 - val_acc: 0.8898\n",
            "Epoch 6/20\n",
            "15000/15000 [==============================] - 1s 94us/step - loss: 0.1223 - acc: 0.9631 - val_loss: 0.3076 - val_acc: 0.8839\n",
            "Epoch 7/20\n",
            "15000/15000 [==============================] - 1s 95us/step - loss: 0.1020 - acc: 0.9709 - val_loss: 0.3216 - val_acc: 0.8823\n",
            "Epoch 8/20\n",
            "15000/15000 [==============================] - 1s 96us/step - loss: 0.0862 - acc: 0.9760 - val_loss: 0.3417 - val_acc: 0.8736\n",
            "Epoch 9/20\n",
            "15000/15000 [==============================] - 1s 95us/step - loss: 0.0706 - acc: 0.9811 - val_loss: 0.3600 - val_acc: 0.8774\n",
            "Epoch 10/20\n",
            "15000/15000 [==============================] - 1s 96us/step - loss: 0.0580 - acc: 0.9857 - val_loss: 0.3604 - val_acc: 0.8777\n",
            "Epoch 11/20\n",
            "15000/15000 [==============================] - 1s 94us/step - loss: 0.0476 - acc: 0.9883 - val_loss: 0.3867 - val_acc: 0.8784\n",
            "Epoch 12/20\n",
            "15000/15000 [==============================] - 1s 94us/step - loss: 0.0369 - acc: 0.9921 - val_loss: 0.4276 - val_acc: 0.8695\n",
            "Epoch 13/20\n",
            "15000/15000 [==============================] - 1s 95us/step - loss: 0.0305 - acc: 0.9946 - val_loss: 0.4444 - val_acc: 0.8746\n",
            "Epoch 14/20\n",
            "15000/15000 [==============================] - 1s 93us/step - loss: 0.0224 - acc: 0.9966 - val_loss: 0.4682 - val_acc: 0.8742\n",
            "Epoch 15/20\n",
            "15000/15000 [==============================] - 1s 96us/step - loss: 0.0182 - acc: 0.9969 - val_loss: 0.4947 - val_acc: 0.8729\n",
            "Epoch 16/20\n",
            "15000/15000 [==============================] - 1s 94us/step - loss: 0.0147 - acc: 0.9983 - val_loss: 0.5251 - val_acc: 0.8723\n",
            "Epoch 17/20\n",
            "15000/15000 [==============================] - 1s 94us/step - loss: 0.0126 - acc: 0.9986 - val_loss: 0.5682 - val_acc: 0.8698\n",
            "Epoch 18/20\n",
            "15000/15000 [==============================] - 1s 93us/step - loss: 0.0069 - acc: 0.9997 - val_loss: 0.5897 - val_acc: 0.8671\n",
            "Epoch 19/20\n",
            "15000/15000 [==============================] - 1s 94us/step - loss: 0.0071 - acc: 0.9991 - val_loss: 0.6243 - val_acc: 0.8643\n",
            "Epoch 20/20\n",
            "15000/15000 [==============================] - 1s 94us/step - loss: 0.0058 - acc: 0.9992 - val_loss: 0.6484 - val_acc: 0.8647\n"
          ],
          "name": "stdout"
        }
      ]
    },
    {
      "cell_type": "code",
      "metadata": {
        "id": "87CO2yCxh_-C",
        "colab_type": "code",
        "colab": {
          "base_uri": "https://localhost:8080/",
          "height": 590
        },
        "outputId": "9e7a8e91-c91f-4401-a706-d6f0cf0ed509"
      },
      "source": [
        "#plot the accuracy against the loss\n",
        "import matplotlib.pyplot as plt\n",
        "\n",
        "#Retrieve a list of list results on training and test data\n",
        "# sets for each training epoch\n",
        "acc = history.history['acc']\n",
        "val_acc = history.history['val_acc']\n",
        "loss = history.history['loss']\n",
        "val_loss = history.history['val_loss']\n",
        "\n",
        "epochs = range(len(acc)) #get number of epochs\n",
        "\n",
        "#plot training and validation accuracy per epoch\n",
        "plt.plot(epochs, acc,'r')\n",
        "plt.plot(epochs, val_acc,'b')\n",
        "plt.title(\"Training and Validation Accuracy\")\n",
        "plt.xlabel(\"Epochs\")\n",
        "plt.ylabel(\"Accuracy\")\n",
        "plt.legend([\"Accuracy\", \"Validation Accuracy\"])\n",
        "\n",
        "plt.figure();\n",
        "\n",
        "#plot training and validation loss per epoch\n",
        "plt.plot(epochs, loss,'r')\n",
        "plt.plot(epochs, val_loss,'b')\n",
        "plt.title(\"Training and Validation loss\")\n",
        "plt.xlabel(\"Epochs\")\n",
        "plt.ylabel(\"Loss\")\n",
        "plt.legend([\"Loss\", \"Validation Loss\"])\n",
        "\n",
        "plt.figure();"
      ],
      "execution_count": 10,
      "outputs": [
        {
          "output_type": "display_data",
          "data": {
            "image/png": "[encoded data removed]",
            "text/plain": [
              "<Figure size 432x288 with 1 Axes>"
            ]
          },
          "metadata": {
            "tags": []
          }
        },
        {
          "output_type": "display_data",
          "data": {
            "image/png": "[encoded data removed]",
            "text/plain": [
              "<Figure size 432x288 with 1 Axes>"
            ]
          },
          "metadata": {
            "tags": []
          }
        },
        {
          "output_type": "display_data",
          "data": {
            "text/plain": [
              "<Figure size 432x288 with 0 Axes>"
            ]
          },
          "metadata": {
            "tags": []
          }
        }
      ]
    },
    {
      "cell_type": "code",
      "metadata": {
        "id": "eljmUOc8uP8I",
        "colab_type": "code",
        "colab": {}
      },
      "source": [
        ""
      ],
      "execution_count": 0,
      "outputs": []
    }
  ]
}